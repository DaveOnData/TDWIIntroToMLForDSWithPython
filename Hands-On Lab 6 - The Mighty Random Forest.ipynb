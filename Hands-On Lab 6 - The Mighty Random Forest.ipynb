{
 "cells": [
  {
   "cell_type": "markdown",
   "id": "610664f4",
   "metadata": {},
   "source": [
    "# Hands-On Lab 6"
   ]
  },
  {
   "cell_type": "markdown",
   "id": "466373f2",
   "metadata": {},
   "source": [
    "In this lab, you will train a mighty *RandomFoestClassifier* on the *Titanic* dataset. You will then compare the predictive performance of this lab's *RandomForestClassifier* to Lab #4's *DecisionTreeClassifier*."
   ]
  },
  {
   "cell_type": "markdown",
   "id": "e436627e",
   "metadata": {},
   "source": [
    "### Step 1 - Load Data"
   ]
  },
  {
   "cell_type": "markdown",
   "id": "7c26aebf",
   "metadata": {},
   "source": [
    "Run the following code cell to load the dataset."
   ]
  },
  {
   "cell_type": "code",
   "execution_count": null,
   "id": "a267cbb7",
   "metadata": {},
   "outputs": [],
   "source": [
    "import pandas as pd\n",
    "\n",
    "# Load Titanic training data from CSV file\n",
    "titanic_train = pd.read_csv('titanic_train.csv')\n",
    "titanic_train.head(n = 10)"
   ]
  },
  {
   "cell_type": "markdown",
   "id": "ec772d77-f3f3-4a88-b9f8-64620cb69873",
   "metadata": {},
   "source": [
    "### Step 2 - Feature Engineering"
   ]
  },
  {
   "cell_type": "markdown",
   "id": "36f5c623-97e9-4b78-8222-ea64c72ecb46",
   "metadata": {},
   "source": [
    "The *RandomForestClassifier* model will leverage most of the features that you created in Lab #4. Run the following code to produce the results."
   ]
  },
  {
   "cell_type": "code",
   "execution_count": null,
   "id": "4105ad9a-6456-4130-89a4-94b38b30eccc",
   "metadata": {},
   "outputs": [],
   "source": [
    "# Create the train_wrangled DataFrame\n",
    "train_wrangled = (titanic_train\n",
    "                    .assign(PartySize = lambda df_: df_['SibSp'] + df_['Parch'] + 1,\n",
    "                            PartyFare = lambda df_: df_['Fare'] / df_['PartySize'],\n",
    "                            Embarked = lambda df_: df_['Embarked'].fillna('S'),\n",
    "                            CommaSplit = lambda df_: df_['Name'].str.split(', ', expand = True).loc[:, 1],\n",
    "                            Title = lambda df_: df_['CommaSplit'].str.split('.', expand = True).loc[:, 0])\n",
    "                 )\n",
    "\n",
    "train_wrangled.head(n = 10)"
   ]
  },
  {
   "cell_type": "markdown",
   "id": "1626dec4-8b7a-4ae8-9e42-96940d74f7e8",
   "metadata": {},
   "source": [
    "### Step 3 - Encode Categorical Features"
   ]
  },
  {
   "cell_type": "markdown",
   "id": "66c85ded-66c2-477b-ad11-31ad0f80e791",
   "metadata": {},
   "source": [
    "As you've seen in previous labs, the categorical features must be one-hot encoded. Run the following code cell to produce the results."
   ]
  },
  {
   "cell_type": "code",
   "execution_count": 3,
   "id": "f420680a-65c5-4771-b470-85483b6ef135",
   "metadata": {},
   "outputs": [
    {
     "data": {
      "text/html": [
       "<div>\n",
       "<style scoped>\n",
       "    .dataframe tbody tr th:only-of-type {\n",
       "        vertical-align: middle;\n",
       "    }\n",
       "\n",
       "    .dataframe tbody tr th {\n",
       "        vertical-align: top;\n",
       "    }\n",
       "\n",
       "    .dataframe thead th {\n",
       "        text-align: right;\n",
       "    }\n",
       "</style>\n",
       "<table border=\"1\" class=\"dataframe\">\n",
       "  <thead>\n",
       "    <tr style=\"text-align: right;\">\n",
       "      <th></th>\n",
       "      <th>Pclass_1</th>\n",
       "      <th>Pclass_2</th>\n",
       "      <th>Pclass_3</th>\n",
       "      <th>Embarked_C</th>\n",
       "      <th>Embarked_Q</th>\n",
       "      <th>Embarked_S</th>\n",
       "      <th>Title_Capt</th>\n",
       "      <th>Title_Col</th>\n",
       "      <th>Title_Don</th>\n",
       "      <th>Title_Dr</th>\n",
       "      <th>...</th>\n",
       "      <th>Title_Master</th>\n",
       "      <th>Title_Miss</th>\n",
       "      <th>Title_Mlle</th>\n",
       "      <th>Title_Mme</th>\n",
       "      <th>Title_Mr</th>\n",
       "      <th>Title_Mrs</th>\n",
       "      <th>Title_Ms</th>\n",
       "      <th>Title_Rev</th>\n",
       "      <th>Title_Sir</th>\n",
       "      <th>Title_the Countess</th>\n",
       "    </tr>\n",
       "  </thead>\n",
       "  <tbody>\n",
       "    <tr>\n",
       "      <th>0</th>\n",
       "      <td>0.0</td>\n",
       "      <td>0.0</td>\n",
       "      <td>1.0</td>\n",
       "      <td>0.0</td>\n",
       "      <td>0.0</td>\n",
       "      <td>1.0</td>\n",
       "      <td>0.0</td>\n",
       "      <td>0.0</td>\n",
       "      <td>0.0</td>\n",
       "      <td>0.0</td>\n",
       "      <td>...</td>\n",
       "      <td>0.0</td>\n",
       "      <td>0.0</td>\n",
       "      <td>0.0</td>\n",
       "      <td>0.0</td>\n",
       "      <td>1.0</td>\n",
       "      <td>0.0</td>\n",
       "      <td>0.0</td>\n",
       "      <td>0.0</td>\n",
       "      <td>0.0</td>\n",
       "      <td>0.0</td>\n",
       "    </tr>\n",
       "    <tr>\n",
       "      <th>1</th>\n",
       "      <td>1.0</td>\n",
       "      <td>0.0</td>\n",
       "      <td>0.0</td>\n",
       "      <td>1.0</td>\n",
       "      <td>0.0</td>\n",
       "      <td>0.0</td>\n",
       "      <td>0.0</td>\n",
       "      <td>0.0</td>\n",
       "      <td>0.0</td>\n",
       "      <td>0.0</td>\n",
       "      <td>...</td>\n",
       "      <td>0.0</td>\n",
       "      <td>0.0</td>\n",
       "      <td>0.0</td>\n",
       "      <td>0.0</td>\n",
       "      <td>0.0</td>\n",
       "      <td>1.0</td>\n",
       "      <td>0.0</td>\n",
       "      <td>0.0</td>\n",
       "      <td>0.0</td>\n",
       "      <td>0.0</td>\n",
       "    </tr>\n",
       "    <tr>\n",
       "      <th>2</th>\n",
       "      <td>0.0</td>\n",
       "      <td>0.0</td>\n",
       "      <td>1.0</td>\n",
       "      <td>0.0</td>\n",
       "      <td>0.0</td>\n",
       "      <td>1.0</td>\n",
       "      <td>0.0</td>\n",
       "      <td>0.0</td>\n",
       "      <td>0.0</td>\n",
       "      <td>0.0</td>\n",
       "      <td>...</td>\n",
       "      <td>0.0</td>\n",
       "      <td>1.0</td>\n",
       "      <td>0.0</td>\n",
       "      <td>0.0</td>\n",
       "      <td>0.0</td>\n",
       "      <td>0.0</td>\n",
       "      <td>0.0</td>\n",
       "      <td>0.0</td>\n",
       "      <td>0.0</td>\n",
       "      <td>0.0</td>\n",
       "    </tr>\n",
       "    <tr>\n",
       "      <th>3</th>\n",
       "      <td>1.0</td>\n",
       "      <td>0.0</td>\n",
       "      <td>0.0</td>\n",
       "      <td>0.0</td>\n",
       "      <td>0.0</td>\n",
       "      <td>1.0</td>\n",
       "      <td>0.0</td>\n",
       "      <td>0.0</td>\n",
       "      <td>0.0</td>\n",
       "      <td>0.0</td>\n",
       "      <td>...</td>\n",
       "      <td>0.0</td>\n",
       "      <td>0.0</td>\n",
       "      <td>0.0</td>\n",
       "      <td>0.0</td>\n",
       "      <td>0.0</td>\n",
       "      <td>1.0</td>\n",
       "      <td>0.0</td>\n",
       "      <td>0.0</td>\n",
       "      <td>0.0</td>\n",
       "      <td>0.0</td>\n",
       "    </tr>\n",
       "    <tr>\n",
       "      <th>4</th>\n",
       "      <td>0.0</td>\n",
       "      <td>0.0</td>\n",
       "      <td>1.0</td>\n",
       "      <td>0.0</td>\n",
       "      <td>0.0</td>\n",
       "      <td>1.0</td>\n",
       "      <td>0.0</td>\n",
       "      <td>0.0</td>\n",
       "      <td>0.0</td>\n",
       "      <td>0.0</td>\n",
       "      <td>...</td>\n",
       "      <td>0.0</td>\n",
       "      <td>0.0</td>\n",
       "      <td>0.0</td>\n",
       "      <td>0.0</td>\n",
       "      <td>1.0</td>\n",
       "      <td>0.0</td>\n",
       "      <td>0.0</td>\n",
       "      <td>0.0</td>\n",
       "      <td>0.0</td>\n",
       "      <td>0.0</td>\n",
       "    </tr>\n",
       "  </tbody>\n",
       "</table>\n",
       "<p>5 rows × 23 columns</p>\n",
       "</div>"
      ],
      "text/plain": [
       "   Pclass_1  Pclass_2  Pclass_3  Embarked_C  Embarked_Q  Embarked_S  \\\n",
       "0       0.0       0.0       1.0         0.0         0.0         1.0   \n",
       "1       1.0       0.0       0.0         1.0         0.0         0.0   \n",
       "2       0.0       0.0       1.0         0.0         0.0         1.0   \n",
       "3       1.0       0.0       0.0         0.0         0.0         1.0   \n",
       "4       0.0       0.0       1.0         0.0         0.0         1.0   \n",
       "\n",
       "   Title_Capt  Title_Col  Title_Don  Title_Dr  ...  Title_Master  Title_Miss  \\\n",
       "0         0.0        0.0        0.0       0.0  ...           0.0         0.0   \n",
       "1         0.0        0.0        0.0       0.0  ...           0.0         0.0   \n",
       "2         0.0        0.0        0.0       0.0  ...           0.0         1.0   \n",
       "3         0.0        0.0        0.0       0.0  ...           0.0         0.0   \n",
       "4         0.0        0.0        0.0       0.0  ...           0.0         0.0   \n",
       "\n",
       "   Title_Mlle  Title_Mme  Title_Mr  Title_Mrs  Title_Ms  Title_Rev  Title_Sir  \\\n",
       "0         0.0        0.0       1.0        0.0       0.0        0.0        0.0   \n",
       "1         0.0        0.0       0.0        1.0       0.0        0.0        0.0   \n",
       "2         0.0        0.0       0.0        0.0       0.0        0.0        0.0   \n",
       "3         0.0        0.0       0.0        1.0       0.0        0.0        0.0   \n",
       "4         0.0        0.0       1.0        0.0       0.0        0.0        0.0   \n",
       "\n",
       "   Title_the Countess  \n",
       "0                 0.0  \n",
       "1                 0.0  \n",
       "2                 0.0  \n",
       "3                 0.0  \n",
       "4                 0.0  \n",
       "\n",
       "[5 rows x 23 columns]"
      ]
     },
     "execution_count": 3,
     "metadata": {},
     "output_type": "execute_result"
    }
   ],
   "source": [
    "from sklearn.preprocessing import OneHotEncoder\n",
    "\n",
    "# Designate the categorical features to use\n",
    "cat_features = ['Pclass', 'Embarked', 'Title']\n",
    "\n",
    "# Instatiate a OneHotEncoder \n",
    "cat_encoder = OneHotEncoder(sparse_output = False)\n",
    "cat_encoder.set_output(transform = 'pandas')\n",
    "\n",
    "# Learn the encodings and transform data\n",
    "train_cat = cat_encoder.fit_transform(train_wrangled[cat_features])\n",
    "train_cat.head()"
   ]
  },
  {
   "cell_type": "markdown",
   "id": "191a8c07-bbec-4879-bc48-5020cb5f2823",
   "metadata": {},
   "source": [
    "### Step 4 - Build Predictors DataFrame"
   ]
  },
  {
   "cell_type": "markdown",
   "id": "1d3b683c-431c-4db2-b94c-5d32f1865a69",
   "metadata": {},
   "source": [
    "The model will use the *Title* feature as a proxy for *Sex* during training. Run the code cell below to produce the results."
   ]
  },
  {
   "cell_type": "code",
   "execution_count": null,
   "id": "f63157dc-4789-4364-8727-a139eb1127e7",
   "metadata": {},
   "outputs": [],
   "source": [
    "# Designate numeric features\n",
    "num_features = ['SibSp', 'Parch', 'PartySize', 'PartyFare']\n",
    "\n",
    "# Build the predictors DataFrame\n",
    "titanic_X = pd.concat([train_wrangled[num_features], train_cat], axis = 1)\n",
    "titanic_X.head()"
   ]
  },
  {
   "cell_type": "markdown",
   "id": "14d1ceb5",
   "metadata": {},
   "source": [
    "### Step 5 - Train a Mighty Random Forest"
   ]
  },
  {
   "cell_type": "markdown",
   "id": "af2dafc5",
   "metadata": {},
   "source": [
    "As the *Survived* label is numeric (i.e., 1 == Survived, 0 == Perished), it does not need to be encoded. The following code trains a *RandomForestClassifier* using the hyperparameter defaults (e.g., 100 trees). The code also sets the *oob_score* to *True* so that the random forest will calculate a generalization estimate using out-of-bag (OOB) data. The OOB estimate is comparable to the cross-validation estimates for *DecisionTreeClassifiers* from previous labs. Type the following code into the blank code cell in your lab notebook and run it to produce the results."
   ]
  },
  {
   "cell_type": "code",
   "execution_count": null,
   "id": "b49f9745",
   "metadata": {},
   "outputs": [],
   "source": [
    "# Type your lab code here"
   ]
  },
  {
   "cell_type": "markdown",
   "id": "0dbef417",
   "metadata": {},
   "source": [
    "### Step 6 - Evaluating the Random Forest"
   ]
  },
  {
   "cell_type": "markdown",
   "id": "f9394c0b",
   "metadata": {},
   "source": [
    "The tuned *DecisionTreeClassifier* from Lab #4 had a cross-validation mean accuracy of 82.4%. Compare this to the estimated OOB accuracy of 80.7% for the *RandomForestClassifier*. A confusion matrix for *the out-of-bag (OOB)* predictions also provides much insight into the *RandomForestClassifier*. In the next section of the course you will learn about tuning random forests to improve their predictive performance. Type the following code into the blank code cell in your lab notebook and run it to produce the results.\n",
    "\n",
    "Note the following in the confusion matrix:\n",
    "* The model's *sensitivity* (i.e., accuracy for predicting survival) is only 249 / (93 + 249) = 72.8%.\n",
    "* The model's *specificity* is 470 / (470 + 79) = 85.6%.\n",
    "\n",
    "**Bottom Line -** The best way to improve the model's performance is to engineer features that increase *sensitivity*!"
   ]
  },
  {
   "cell_type": "code",
   "execution_count": null,
   "id": "d304d182-a661-43db-a06b-fbd2deddb472",
   "metadata": {},
   "outputs": [],
   "source": [
    "# Type your lab code here"
   ]
  }
 ],
 "metadata": {
  "kernelspec": {
   "display_name": "Python 3 (ipykernel)",
   "language": "python",
   "name": "python3"
  },
  "language_info": {
   "codemirror_mode": {
    "name": "ipython",
    "version": 3
   },
   "file_extension": ".py",
   "mimetype": "text/x-python",
   "name": "python",
   "nbconvert_exporter": "python",
   "pygments_lexer": "ipython3",
   "version": "3.11.7"
  }
 },
 "nbformat": 4,
 "nbformat_minor": 5
}

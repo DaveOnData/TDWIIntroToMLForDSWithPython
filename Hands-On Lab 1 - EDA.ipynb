{
 "cells": [
  {
   "cell_type": "markdown",
   "id": "992b95ea",
   "metadata": {},
   "source": [
    "# Hands-On Lab 1 - EDA"
   ]
  },
  {
   "cell_type": "markdown",
   "id": "fde04b6b",
   "metadata": {},
   "source": [
    "In this lab you will perform exploratory data analysis (EDA) on the *Titanic* dataset. The findings of this lab will be used in future labs in crafting features to train a Titanic machine learning model."
   ]
  },
  {
   "cell_type": "markdown",
   "id": "a15971f0",
   "metadata": {},
   "source": [
    "## Titanic Data Profiling"
   ]
  },
  {
   "cell_type": "markdown",
   "id": "7a32f0c7",
   "metadata": {},
   "source": [
    "### Step 1 - Load Data"
   ]
  },
  {
   "cell_type": "markdown",
   "id": "ba1d4ddd",
   "metadata": {},
   "source": [
    "The *titantic_train.csv* file is the training dataset. Run the following code cell to load the dataset."
   ]
  },
  {
   "cell_type": "code",
   "execution_count": 1,
   "id": "fe96dbaa",
   "metadata": {},
   "outputs": [
    {
     "data": {
      "text/html": [
       "<div>\n",
       "<style scoped>\n",
       "    .dataframe tbody tr th:only-of-type {\n",
       "        vertical-align: middle;\n",
       "    }\n",
       "\n",
       "    .dataframe tbody tr th {\n",
       "        vertical-align: top;\n",
       "    }\n",
       "\n",
       "    .dataframe thead th {\n",
       "        text-align: right;\n",
       "    }\n",
       "</style>\n",
       "<table border=\"1\" class=\"dataframe\">\n",
       "  <thead>\n",
       "    <tr style=\"text-align: right;\">\n",
       "      <th></th>\n",
       "      <th>PassengerId</th>\n",
       "      <th>Survived</th>\n",
       "      <th>Pclass</th>\n",
       "      <th>Name</th>\n",
       "      <th>Sex</th>\n",
       "      <th>Age</th>\n",
       "      <th>SibSp</th>\n",
       "      <th>Parch</th>\n",
       "      <th>Ticket</th>\n",
       "      <th>Fare</th>\n",
       "      <th>Cabin</th>\n",
       "      <th>Embarked</th>\n",
       "    </tr>\n",
       "  </thead>\n",
       "  <tbody>\n",
       "    <tr>\n",
       "      <th>0</th>\n",
       "      <td>1</td>\n",
       "      <td>0</td>\n",
       "      <td>3</td>\n",
       "      <td>Braund, Mr. Owen Harris</td>\n",
       "      <td>male</td>\n",
       "      <td>22.0</td>\n",
       "      <td>1</td>\n",
       "      <td>0</td>\n",
       "      <td>A/5 21171</td>\n",
       "      <td>7.2500</td>\n",
       "      <td>NaN</td>\n",
       "      <td>S</td>\n",
       "    </tr>\n",
       "    <tr>\n",
       "      <th>1</th>\n",
       "      <td>2</td>\n",
       "      <td>1</td>\n",
       "      <td>1</td>\n",
       "      <td>Cumings, Mrs. John Bradley (Florence Briggs Th...</td>\n",
       "      <td>female</td>\n",
       "      <td>38.0</td>\n",
       "      <td>1</td>\n",
       "      <td>0</td>\n",
       "      <td>PC 17599</td>\n",
       "      <td>71.2833</td>\n",
       "      <td>C85</td>\n",
       "      <td>C</td>\n",
       "    </tr>\n",
       "    <tr>\n",
       "      <th>2</th>\n",
       "      <td>3</td>\n",
       "      <td>1</td>\n",
       "      <td>3</td>\n",
       "      <td>Heikkinen, Miss. Laina</td>\n",
       "      <td>female</td>\n",
       "      <td>26.0</td>\n",
       "      <td>0</td>\n",
       "      <td>0</td>\n",
       "      <td>STON/O2. 3101282</td>\n",
       "      <td>7.9250</td>\n",
       "      <td>NaN</td>\n",
       "      <td>S</td>\n",
       "    </tr>\n",
       "    <tr>\n",
       "      <th>3</th>\n",
       "      <td>4</td>\n",
       "      <td>1</td>\n",
       "      <td>1</td>\n",
       "      <td>Futrelle, Mrs. Jacques Heath (Lily May Peel)</td>\n",
       "      <td>female</td>\n",
       "      <td>35.0</td>\n",
       "      <td>1</td>\n",
       "      <td>0</td>\n",
       "      <td>113803</td>\n",
       "      <td>53.1000</td>\n",
       "      <td>C123</td>\n",
       "      <td>S</td>\n",
       "    </tr>\n",
       "    <tr>\n",
       "      <th>4</th>\n",
       "      <td>5</td>\n",
       "      <td>0</td>\n",
       "      <td>3</td>\n",
       "      <td>Allen, Mr. William Henry</td>\n",
       "      <td>male</td>\n",
       "      <td>35.0</td>\n",
       "      <td>0</td>\n",
       "      <td>0</td>\n",
       "      <td>373450</td>\n",
       "      <td>8.0500</td>\n",
       "      <td>NaN</td>\n",
       "      <td>S</td>\n",
       "    </tr>\n",
       "  </tbody>\n",
       "</table>\n",
       "</div>"
      ],
      "text/plain": [
       "   PassengerId  Survived  Pclass  \\\n",
       "0            1         0       3   \n",
       "1            2         1       1   \n",
       "2            3         1       3   \n",
       "3            4         1       1   \n",
       "4            5         0       3   \n",
       "\n",
       "                                                Name     Sex   Age  SibSp  \\\n",
       "0                            Braund, Mr. Owen Harris    male  22.0      1   \n",
       "1  Cumings, Mrs. John Bradley (Florence Briggs Th...  female  38.0      1   \n",
       "2                             Heikkinen, Miss. Laina  female  26.0      0   \n",
       "3       Futrelle, Mrs. Jacques Heath (Lily May Peel)  female  35.0      1   \n",
       "4                           Allen, Mr. William Henry    male  35.0      0   \n",
       "\n",
       "   Parch            Ticket     Fare Cabin Embarked  \n",
       "0      0         A/5 21171   7.2500   NaN        S  \n",
       "1      0          PC 17599  71.2833   C85        C  \n",
       "2      0  STON/O2. 3101282   7.9250   NaN        S  \n",
       "3      0            113803  53.1000  C123        S  \n",
       "4      0            373450   8.0500   NaN        S  "
      ]
     },
     "execution_count": 1,
     "metadata": {},
     "output_type": "execute_result"
    }
   ],
   "source": [
    "import pandas as pd\n",
    "\n",
    "# Load Titanic training data from CSV file\n",
    "titanic_train = pd.read_csv('titanic_train.csv')\n",
    "titanic_train.head()"
   ]
  },
  {
   "cell_type": "markdown",
   "id": "9a0cb811",
   "metadata": {},
   "source": [
    "### Step 2 - Profile the Data"
   ]
  },
  {
   "cell_type": "markdown",
   "id": "f7f46df6",
   "metadata": {},
   "source": [
    "Assessing the quality of a dataset is the first step in a machine learning project. The *ydata-profiling* library provides rich functionality for profiling *pandas DataFrames*. Type the following code into the blank code cell in your lab notebook and run it to produce the results."
   ]
  },
  {
   "cell_type": "code",
   "execution_count": 2,
   "id": "92abad92",
   "metadata": {},
   "outputs": [],
   "source": [
    "# Enter your lab code here"
   ]
  },
  {
   "cell_type": "markdown",
   "id": "8301f3fb",
   "metadata": {},
   "source": [
    "## Titanic Data Visualization"
   ]
  },
  {
   "cell_type": "markdown",
   "id": "b3e4dbe8",
   "metadata": {},
   "source": [
    "### Step 19 - Visualize Pclass and Sex"
   ]
  },
  {
   "cell_type": "markdown",
   "id": "b34e1f5e",
   "metadata": {},
   "source": [
    "We know from the data profiling *Alerts* that the *Sex* feature is highly correlated with *Survived*. Evaluating the combination of *Sex* with other features in terms of *Survived* can provide valuable information for building a machine learning model. \n",
    "\n",
    "The *Pclass* feature and *Survived* label are categorical but encoded as numeric. The *plotnine* library supports casting numeric features to categorical using *factor()*. Type the following code into the blank code cell in your lab notebook and run it to produce the results."
   ]
  },
  {
   "cell_type": "code",
   "execution_count": 3,
   "id": "30d631ce",
   "metadata": {},
   "outputs": [],
   "source": [
    "# Enter your lab code here"
   ]
  },
  {
   "cell_type": "markdown",
   "id": "83d55b42",
   "metadata": {},
   "source": [
    "### Step 20 - Visalize Sex, Pclass, and Embarked"
   ]
  },
  {
   "cell_type": "markdown",
   "id": "75e4e2a7",
   "metadata": {},
   "source": [
    "We know from the previous visualization that the combination of *Sex* and *Pclass* has a predictive relationship with *Survived*. Adding additional features (e.g., *Embarked*) to visualization may strengthen this predictive relationship. \n",
    "\n",
    "The *plotnine* library treats string data as categorical. Type the following code into the blank code cell in your lab notebook and run it to produce the results.\n",
    "\n",
    "**NOTE** - Be sure to reuse previous code by copying, pasting, and modifying."
   ]
  },
  {
   "cell_type": "code",
   "execution_count": 4,
   "id": "15114b88",
   "metadata": {},
   "outputs": [],
   "source": [
    "# Enter your lab code here"
   ]
  },
  {
   "cell_type": "markdown",
   "id": "2928b331",
   "metadata": {},
   "source": [
    "### Step 21 - Visualize Sex, Pclass, SibSp, and Parch"
   ]
  },
  {
   "cell_type": "markdown",
   "id": "bdca72bb",
   "metadata": {},
   "source": [
    "Data profiling showed the *SibSp* and *Parch* features are of good quality for machine learning purposes. Using faceted scatter plots allows for evaluating the potential of *Sex*, *Pclass*, *SibSp*, and *Parch* combined to predict *Survived*. Type the following code into the blank code cell in your lab notebook and run it to produce the results."
   ]
  },
  {
   "cell_type": "code",
   "execution_count": 5,
   "id": "f93e3121",
   "metadata": {},
   "outputs": [],
   "source": [
    "# Enter your lab code here"
   ]
  },
  {
   "cell_type": "markdown",
   "id": "7d757604",
   "metadata": {},
   "source": [
    "### Step 22 - Visualize Fare and Pclass"
   ]
  },
  {
   "cell_type": "markdown",
   "id": "fa373ee3",
   "metadata": {},
   "source": [
    "We might assume *Pclass* and *Fare* are highly correlated. For example, we know it is common for *1st class* tickets to cost more than *3rd class* tickets. However, it is always a good idea to validate assumptions with the data. Type the following code into the blank code cell in your lab notebook and run it to produce the results."
   ]
  },
  {
   "cell_type": "code",
   "execution_count": 6,
   "id": "235b0194",
   "metadata": {},
   "outputs": [],
   "source": [
    "# Enter your lab code here"
   ]
  },
  {
   "cell_type": "markdown",
   "id": "00c0d9da",
   "metadata": {},
   "source": [
    "### Step 23 - Visualize Sex, Pclass, and Age"
   ]
  },
  {
   "cell_type": "markdown",
   "id": "1e0bf60b",
   "metadata": {},
   "source": [
    "The data profiling shows that the *Age* feature cannot be used as-is due to too many missing values. However, the missing values of *Age* would need to be imputed to make *Age* a viable feature to use. The *plotnine* library can create data visualizations with missing values. It will issue you a warning that it has removed missing values. Type the following code into the blank code cell in your lab notebook and run it to produce the results."
   ]
  },
  {
   "cell_type": "code",
   "execution_count": 7,
   "id": "514e8a60",
   "metadata": {},
   "outputs": [],
   "source": [
    "# Enter your lab code here"
   ]
  }
 ],
 "metadata": {
  "kernelspec": {
   "display_name": "Python 3 (ipykernel)",
   "language": "python",
   "name": "python3"
  },
  "language_info": {
   "codemirror_mode": {
    "name": "ipython",
    "version": 3
   },
   "file_extension": ".py",
   "mimetype": "text/x-python",
   "name": "python",
   "nbconvert_exporter": "python",
   "pygments_lexer": "ipython3",
   "version": "3.11.7"
  }
 },
 "nbformat": 4,
 "nbformat_minor": 5
}

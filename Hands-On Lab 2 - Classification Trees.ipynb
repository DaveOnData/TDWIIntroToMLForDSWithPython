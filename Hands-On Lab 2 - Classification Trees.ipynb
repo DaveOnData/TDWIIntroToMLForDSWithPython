{
 "cells": [
  {
   "cell_type": "markdown",
   "id": "610664f4",
   "metadata": {},
   "source": [
    "# Hands-On Lab 2"
   ]
  },
  {
   "cell_type": "markdown",
   "id": "466373f2",
   "metadata": {},
   "source": [
    "In this lab you will train a *DecisionTreeClassifier* on the *Titanic* dataset. The features used in this lab to train the decision tree model will be based on your findings from Lab 1."
   ]
  },
  {
   "cell_type": "markdown",
   "id": "e436627e",
   "metadata": {},
   "source": [
    "### Step 1 - Load Data"
   ]
  },
  {
   "cell_type": "markdown",
   "id": "7c26aebf",
   "metadata": {},
   "source": [
    "Run the following code cell to load the dataset."
   ]
  },
  {
   "cell_type": "code",
   "execution_count": null,
   "id": "a267cbb7",
   "metadata": {},
   "outputs": [],
   "source": [
    "import pandas as pd\n",
    "\n",
    "# Load Titanic training data from CSV file\n",
    "titanic_train = pd.read_csv('titanic_train.csv')\n",
    "titanic_train.info()"
   ]
  },
  {
   "cell_type": "markdown",
   "id": "c9b70e83",
   "metadata": {},
   "source": [
    "### Step 2 - Encode Categorical Features"
   ]
  },
  {
   "cell_type": "markdown",
   "id": "6def3a98",
   "metadata": {},
   "source": [
    "In Lab 1, you discovered that a number of *Titanic* dataset features cannot be used directly. For example, the *Ticket* feature's cardinality is too high, and the *Embarked* feature needs missing values replaced. For this lab, you will use a subset of \"complete\" features for your first model. Type the following code into the blank code cell in your lab notebook and run it to produce the results. "
   ]
  },
  {
   "cell_type": "code",
   "execution_count": null,
   "id": "d954b41d",
   "metadata": {},
   "outputs": [],
   "source": [
    "# Enter your lab code here"
   ]
  },
  {
   "cell_type": "markdown",
   "id": "cc413f52",
   "metadata": {},
   "source": [
    "### Step 3 - Build Predictors DataFrame"
   ]
  },
  {
   "cell_type": "markdown",
   "id": "f9411a35",
   "metadata": {},
   "source": [
    "With the *Pclass* and *Sex* features one-hot encoded in the *train_cat* DataFrame, it's time to create the predictor DataFrame that will be used in training the decision tree. "
   ]
  },
  {
   "cell_type": "code",
   "execution_count": null,
   "id": "81a33783",
   "metadata": {},
   "outputs": [],
   "source": [
    "# Enter your lab code here"
   ]
  },
  {
   "cell_type": "markdown",
   "id": "14d1ceb5",
   "metadata": {},
   "source": [
    "### Step 4 - Train the Model"
   ]
  },
  {
   "cell_type": "markdown",
   "id": "af2dafc5",
   "metadata": {},
   "source": [
    "As the *Survived* label is numeric (i.e., 1 == Survived, 0 == Perished), it does not need to be encoded. The following code trains a *scikit-learn* DecisionTreeClassifier using the encoded training data to predict *Survived*. Type the following code into the blank code cell in your lab notebook and run it to produce the results."
   ]
  },
  {
   "cell_type": "code",
   "execution_count": null,
   "id": "b49f9745",
   "metadata": {},
   "outputs": [],
   "source": [
    "# Enter your lab code here"
   ]
  },
  {
   "cell_type": "markdown",
   "id": "0dbef417",
   "metadata": {},
   "source": [
    "### Step 5 - Visualize the Model"
   ]
  },
  {
   "cell_type": "markdown",
   "id": "f9394c0b",
   "metadata": {},
   "source": [
    "When visualizing the *DecisionTreeClassifier* model, the labels of *Perished* and *Survived* will be used instead of ones and zeroes. Type the following code into the blank code cell in your lab notebook and run it to produce the results."
   ]
  },
  {
   "cell_type": "code",
   "execution_count": null,
   "id": "9f5e594f",
   "metadata": {},
   "outputs": [],
   "source": [
    "# Enter your lab code here"
   ]
  },
  {
   "cell_type": "markdown",
   "id": "ce108c7d",
   "metadata": {},
   "source": [
    "### Step 6 - \"Tune\" the Model"
   ]
  },
  {
   "cell_type": "markdown",
   "id": "f209d2df",
   "metadata": {},
   "source": [
    "The *decision_tree* model trained above is far too large, given the small training dataset of seven encoded features and 891 observations. The following code tunes the model by setting the *min_samples_leaf parameter* to 100. This parameter setting requires a minimum of 100 observations to create a leaf node, thereby constraining the size of the tree. Type the following code into the blank code cell in your lab notebook and run it to produce the results."
   ]
  },
  {
   "cell_type": "code",
   "execution_count": null,
   "id": "6cedd74a",
   "metadata": {},
   "outputs": [],
   "source": [
    "# Enter your lab code here"
   ]
  }
 ],
 "metadata": {
  "kernelspec": {
   "display_name": "Python 3 (ipykernel)",
   "language": "python",
   "name": "python3"
  },
  "language_info": {
   "codemirror_mode": {
    "name": "ipython",
    "version": 3
   },
   "file_extension": ".py",
   "mimetype": "text/x-python",
   "name": "python",
   "nbconvert_exporter": "python",
   "pygments_lexer": "ipython3",
   "version": "3.11.7"
  }
 },
 "nbformat": 4,
 "nbformat_minor": 5
}

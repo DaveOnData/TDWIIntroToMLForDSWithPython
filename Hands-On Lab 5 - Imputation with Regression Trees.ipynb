{
 "cells": [
  {
   "cell_type": "markdown",
   "id": "610664f4",
   "metadata": {},
   "source": [
    "# Hands-On Lab 5"
   ]
  },
  {
   "cell_type": "markdown",
   "id": "466373f2",
   "metadata": {},
   "source": [
    "In this lab, you will train a tuned *DecisionTreeRegressor* to predict the *Age* feature from the *Titanic* dataset. You will then use the model to replace (i.e., *impute*) missing *Age* values.\n",
    "\n",
    "**NOTE -** As discussed in the lecture, the imputation model built in this lab suffers from *information leakage* during cross-validation."
   ]
  },
  {
   "cell_type": "markdown",
   "id": "e436627e",
   "metadata": {},
   "source": [
    "### Step 1 - Load Data"
   ]
  },
  {
   "cell_type": "markdown",
   "id": "7c26aebf",
   "metadata": {},
   "source": [
    "Note how the sixth row has a missing value (i.e., *NaN*) for the *Age* feature. Run the following code cell to load the dataset."
   ]
  },
  {
   "cell_type": "code",
   "execution_count": null,
   "id": "a267cbb7",
   "metadata": {},
   "outputs": [],
   "source": [
    "import pandas as pd\n",
    "\n",
    "# Load Titanic training data from CSV file\n",
    "titanic_train = pd.read_csv('titanic_train.csv')\n",
    "titanic_train.head(n = 10)"
   ]
  },
  {
   "cell_type": "markdown",
   "id": "ec772d77-f3f3-4a88-b9f8-64620cb69873",
   "metadata": {},
   "source": [
    "### Step 2 - Create the *age_missing_mask*"
   ]
  },
  {
   "cell_type": "markdown",
   "id": "36f5c623-97e9-4b78-8222-ea64c72ecb46",
   "metadata": {},
   "source": [
    "A mask is a collection of boolean (i.e., *True/False*) values that can be used for filtering. Run the following code to create a mask where *True* values indicate that the *Age* feature is missing (e.g., the 6th row)."
   ]
  },
  {
   "cell_type": "code",
   "execution_count": null,
   "id": "4105ad9a-6456-4130-89a4-94b38b30eccc",
   "metadata": {},
   "outputs": [],
   "source": [
    "# Create a boolean mask for training with missing Age values\n",
    "age_missing_mask = titanic_train['Age'].isna()\n",
    "age_missing_mask[0:10]"
   ]
  },
  {
   "cell_type": "markdown",
   "id": "1626dec4-8b7a-4ae8-9e42-96940d74f7e8",
   "metadata": {},
   "source": [
    "### Step 3 - Create the *age_present_mask*"
   ]
  },
  {
   "cell_type": "markdown",
   "id": "66c85ded-66c2-477b-ad11-31ad0f80e791",
   "metadata": {},
   "source": [
    "Run the following code to create a mask that is the opposite of *age_missing_mask*."
   ]
  },
  {
   "cell_type": "code",
   "execution_count": null,
   "id": "f420680a-65c5-4771-b470-85483b6ef135",
   "metadata": {},
   "outputs": [],
   "source": [
    "# Create a boolean mask for training with Age values present\n",
    "age_present_mask = ~age_missing_mask\n",
    "age_present_mask[0:10]"
   ]
  },
  {
   "cell_type": "markdown",
   "id": "191a8c07-bbec-4879-bc48-5020cb5f2823",
   "metadata": {},
   "source": [
    "### Step 4 - Feature Engineering"
   ]
  },
  {
   "cell_type": "markdown",
   "id": "1d3b683c-431c-4db2-b94c-5d32f1865a69",
   "metadata": {},
   "source": [
    "The imputation model will leverage many of the features that you created in Lab #4. Run the following code to produce the results."
   ]
  },
  {
   "cell_type": "code",
   "execution_count": null,
   "id": "f63157dc-4789-4364-8727-a139eb1127e7",
   "metadata": {},
   "outputs": [],
   "source": [
    "# Create the train_wrangled DataFrame\n",
    "train_wrangled = (titanic_train\n",
    "                    .assign(PartySize = lambda df_: df_['SibSp'] + df_['Parch'] + 1,\n",
    "                            PartyFare = lambda df_: df_['Fare'] / df_['PartySize'],\n",
    "                            Embarked = lambda df_: df_['Embarked'].fillna('S'),\n",
    "                            CommaSplit = lambda df_: df_['Name'].str.split(', ', expand = True).loc[:, 1],\n",
    "                            Title = lambda df_: df_['CommaSplit'].str.split('.', expand = True).loc[:, 0])\n",
    "                 )\n",
    "\n",
    "train_wrangled.head(n = 10)"
   ]
  },
  {
   "cell_type": "markdown",
   "id": "d4caefc4-38da-4a99-a43c-710228d77624",
   "metadata": {},
   "source": [
    "### Step 5 - Encode Categorical Features"
   ]
  },
  {
   "cell_type": "markdown",
   "id": "792ccbef-6bc4-4154-ad5e-4ca5e3d3690e",
   "metadata": {},
   "source": [
    "As you've seen in previous labs, the categorical features must be one-hot encoded. Run the following code cell to produce the results."
   ]
  },
  {
   "cell_type": "code",
   "execution_count": null,
   "id": "2b9a92ac-2045-4ef5-9ff5-a25343fff93f",
   "metadata": {},
   "outputs": [],
   "source": [
    "from sklearn.preprocessing import OneHotEncoder\n",
    "\n",
    "# Designate the categorical features to use\n",
    "cat_features = ['Pclass', 'Embarked', 'Title']\n",
    "\n",
    "# Instatiate a OneHotEncoder \n",
    "cat_encoder = OneHotEncoder(sparse_output = False)\n",
    "cat_encoder.set_output(transform = 'pandas')\n",
    "\n",
    "# Learn the encodings and transform data\n",
    "train_cat = cat_encoder.fit_transform(train_wrangled[cat_features])\n",
    "train_cat.head()"
   ]
  },
  {
   "cell_type": "markdown",
   "id": "ef73a266-945d-4b05-a760-3505f2c8c12e",
   "metadata": {},
   "source": [
    "### Step 6 - Build Predictors DataFrame"
   ]
  },
  {
   "cell_type": "markdown",
   "id": "6d73a065-28c5-4228-be65-779595ef1153",
   "metadata": {},
   "source": [
    "The imputation model will use the *Title* feature as a proxy for *Sex* during training. Run the code cell below to produce the results."
   ]
  },
  {
   "cell_type": "code",
   "execution_count": null,
   "id": "1ea77ba5-eba3-49a0-b25a-f3baf8812b9e",
   "metadata": {},
   "outputs": [],
   "source": [
    "# Designate numeric features\n",
    "num_features = ['SibSp', 'Parch', 'PartySize', 'PartyFare']\n",
    "\n",
    "# Build the predictors DataFrame\n",
    "titanic_X = pd.concat([train_wrangled[num_features], train_cat], axis = 1)\n",
    "titanic_X.head()"
   ]
  },
  {
   "cell_type": "markdown",
   "id": "c9b70e83",
   "metadata": {},
   "source": [
    "### Step 7 - Build Training DataFrame"
   ]
  },
  {
   "cell_type": "markdown",
   "id": "07a5812e-9d73-4f63-b556-af4c25deca9a",
   "metadata": {},
   "source": [
    "The *DecisionTreeRegressor* imputation model will be trained on the subset of data where *Age* values are present. Note how the model will be trained on 714 of 890 rows. Type the following code into the blank code cell in your lab notebook and run it to produce the results."
   ]
  },
  {
   "cell_type": "code",
   "execution_count": null,
   "id": "c2d87261-a32c-4364-868e-8d442be1482f",
   "metadata": {},
   "outputs": [],
   "source": [
    "# Enter your lab code here"
   ]
  },
  {
   "cell_type": "markdown",
   "id": "6def3a98",
   "metadata": {},
   "source": [
    "For this lab, a few categorical features have to be one-hot encoded. Type the following code into the blank code cell in your lab notebook and run it to produce the results."
   ]
  },
  {
   "cell_type": "markdown",
   "id": "14d1ceb5",
   "metadata": {},
   "source": [
    "### Step 8 - Train a Tuned Model"
   ]
  },
  {
   "cell_type": "markdown",
   "id": "af2dafc5",
   "metadata": {},
   "source": [
    "The following code performs a grid search using *min_samples_leaf* and *min_impurity_decrease* hyperparameters. The best model is evaluated using *neg_mean_squared_error* to measure awesomeness. Type the following code into the blank code cell in your lab notebook and run it to produce the results."
   ]
  },
  {
   "cell_type": "code",
   "execution_count": null,
   "id": "b49f9745",
   "metadata": {},
   "outputs": [],
   "source": [
    "# Enter your lab code here"
   ]
  },
  {
   "cell_type": "markdown",
   "id": "0dbef417",
   "metadata": {},
   "source": [
    "### Step 9 - Visualize the Model"
   ]
  },
  {
   "cell_type": "markdown",
   "id": "f9394c0b",
   "metadata": {},
   "source": [
    "As demonstrated below, the imputation model is quite complex. Understanding its usefulness using only the visualization is a non-starter. Type the following code into the blank code cell in your lab notebook and run it to produce the results."
   ]
  },
  {
   "cell_type": "code",
   "execution_count": null,
   "id": "9f5e594f",
   "metadata": {},
   "outputs": [],
   "source": [
    "# Enter your lab code here"
   ]
  },
  {
   "cell_type": "markdown",
   "id": "ce108c7d",
   "metadata": {},
   "source": [
    "### Step 10 - Evaluating the Imputation Model"
   ]
  },
  {
   "cell_type": "markdown",
   "id": "f209d2df",
   "metadata": {},
   "source": [
    "Evaluating *ClassificationTreeRegressor* models are more complicated than evaluating *DecisionTreeClassifiers*. While many metrics can be used, one of the most intuitive is *mean absolute error* (MAE). The MAE value tells you how far off, on average, the model's predictions are. In the case of the *Age* imputation model, on average, the model's predictions are 8.1 years to high/low. Type the following code into the blank code cell in your lab notebook and run it to produce the results."
   ]
  },
  {
   "cell_type": "code",
   "execution_count": null,
   "id": "6cedd74a",
   "metadata": {},
   "outputs": [],
   "source": [
    "# Enter your lab code here"
   ]
  },
  {
   "cell_type": "markdown",
   "id": "f44dc748-e056-4fdb-9f4f-f14570790b79",
   "metadata": {},
   "source": [
    "### Step 11 - Imputing Missing *Age* Values"
   ]
  },
  {
   "cell_type": "markdown",
   "id": "a14389f0-7399-4214-9d7b-9ef39955c0dc",
   "metadata": {},
   "source": [
    "The only reliable way to know for sure if the imputation model helps or hurts is by comparing models trained using imputed *Age* values to models that do not use imputed *Age* values. Here's an example of such a test:\n",
    "\n",
    "* Evaluating the cross-validation performance of a *DecisionTreeClassifier* using the *Female* and *Age* features, but not *Title*.\n",
    "* Evaluating the cross-validation performance of a *DecisionTreeClassifier* using the *Title* feature, but not *Female* and *Age* .\n",
    "\n",
    "**NOTE -** The above assumes no support for missing values by the *DecisionTreeClassifier*.\n",
    "\n",
    "The following code demonstrates how you can replace missing *Age* values with imputation model predictions. Type the following code into the blank code cell in your lab notebook and run it to produce the results."
   ]
  },
  {
   "cell_type": "code",
   "execution_count": null,
   "id": "a8f68777-e25c-4815-890e-bacd6926d08b",
   "metadata": {},
   "outputs": [],
   "source": [
    "# Enter your lab code here"
   ]
  }
 ],
 "metadata": {
  "kernelspec": {
   "display_name": "Python 3 (ipykernel)",
   "language": "python",
   "name": "python3"
  },
  "language_info": {
   "codemirror_mode": {
    "name": "ipython",
    "version": 3
   },
   "file_extension": ".py",
   "mimetype": "text/x-python",
   "name": "python",
   "nbconvert_exporter": "python",
   "pygments_lexer": "ipython3",
   "version": "3.11.7"
  }
 },
 "nbformat": 4,
 "nbformat_minor": 5
}

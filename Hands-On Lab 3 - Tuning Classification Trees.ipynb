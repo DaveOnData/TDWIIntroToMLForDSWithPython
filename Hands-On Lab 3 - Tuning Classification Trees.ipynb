{
 "cells": [
  {
   "cell_type": "markdown",
   "id": "610664f4",
   "metadata": {},
   "source": [
    "# Hands-On Lab 3"
   ]
  },
  {
   "cell_type": "markdown",
   "id": "466373f2",
   "metadata": {},
   "source": [
    "In this lab you will train a tuned *DecisionTreeClassifier* on the *Titanic* dataset. The features used in this lab to train the decision tree model will be based on your findings from Lab 1."
   ]
  },
  {
   "cell_type": "markdown",
   "id": "e436627e",
   "metadata": {},
   "source": [
    "### Step 1 - Load Data"
   ]
  },
  {
   "cell_type": "markdown",
   "id": "7c26aebf",
   "metadata": {},
   "source": [
    "Run the following code cell to load the dataset."
   ]
  },
  {
   "cell_type": "code",
   "execution_count": null,
   "id": "a267cbb7",
   "metadata": {},
   "outputs": [],
   "source": [
    "import pandas as pd\n",
    "\n",
    "# Load Titanic training data from CSV file\n",
    "titanic_train = pd.read_csv('titanic_train.csv')\n",
    "titanic_train.info()"
   ]
  },
  {
   "cell_type": "markdown",
   "id": "c9b70e83",
   "metadata": {},
   "source": [
    "### Step 2 - Encode Categorical Features"
   ]
  },
  {
   "cell_type": "markdown",
   "id": "6def3a98",
   "metadata": {},
   "source": [
    "In Lab 1, you discovered that a number of *Titanic* dataset features cannot be used directly. For example, the *Ticket* feature's cardinality is too high, and the *Embarked* feature needs missing values replaced. For this lab, you will use a subset of \"complete\" features for your first model. Run the following code to produce the results. "
   ]
  },
  {
   "cell_type": "code",
   "execution_count": null,
   "id": "d954b41d",
   "metadata": {},
   "outputs": [],
   "source": [
    "from sklearn.preprocessing import OneHotEncoder\n",
    "\n",
    "# Designate the features to use - including categorical features\n",
    "features = ['Pclass', 'Sex', 'SibSp', 'Parch']\n",
    "cat_features = ['Pclass', 'Sex']\n",
    "\n",
    "# Instatiate a OneHotEncoder \n",
    "cat_encoder = OneHotEncoder(sparse_output = False)\n",
    "cat_encoder.set_output(transform = 'pandas')\n",
    "\n",
    "# Learn the encodings and transform data\n",
    "train_cat = cat_encoder.fit_transform(titanic_train[cat_features])\n",
    "train_cat.head()"
   ]
  },
  {
   "cell_type": "markdown",
   "id": "cc413f52",
   "metadata": {},
   "source": [
    "### Step 3 - Build Predictors DataFrame"
   ]
  },
  {
   "cell_type": "markdown",
   "id": "f9411a35",
   "metadata": {},
   "source": [
    "With the *Pclass* and *Sex* features one-hot encoded in the *train_cat* DataFrame, it's time to create the predictor DataFrame that will be used in training the decision tree. Run the following code to produce the results."
   ]
  },
  {
   "cell_type": "code",
   "execution_count": null,
   "id": "81a33783",
   "metadata": {},
   "outputs": [],
   "source": [
    "# Designate numeric features\n",
    "num_features = ['SibSp', 'Parch']\n",
    "\n",
    "# Build the predictors DataFrame\n",
    "titanic_X = pd.concat([titanic_train[num_features], train_cat], axis = 1)\n",
    "titanic_X.head()"
   ]
  },
  {
   "cell_type": "markdown",
   "id": "14d1ceb5",
   "metadata": {},
   "source": [
    "### Step 4 - Train a Tuned Model"
   ]
  },
  {
   "cell_type": "markdown",
   "id": "af2dafc5",
   "metadata": {},
   "source": [
    "As the *Survived* label is numeric (i.e., 1 == Survived, 0 == Perished), it does not need to be encoded. The following code performs a grid search using *min_samples_leaf* and *min_impurity_decrease* hyperparameters. The best model is evaluated using *accuracy* as the measure of awesomeness. Type the following code into the blank code cell in your lab notebook and run it to produce the results."
   ]
  },
  {
   "cell_type": "code",
   "execution_count": null,
   "id": "b49f9745",
   "metadata": {},
   "outputs": [],
   "source": [
    "# Enter your lab code here"
   ]
  },
  {
   "cell_type": "markdown",
   "id": "0dbef417",
   "metadata": {},
   "source": [
    "### Step 5 - Visualize the Model"
   ]
  },
  {
   "cell_type": "markdown",
   "id": "f9394c0b",
   "metadata": {},
   "source": [
    "When visualizing the *DecisionTreeClassifier* model, the labels of *Perished* and *Survived* will be used instead of ones and zeroes. The *best_estimator_* attribute of the *grid_cv* object provides a model trained on all the data using the best hyperparameter values. Type the following code into the blank code cell in your lab notebook and run it to produce the results."
   ]
  },
  {
   "cell_type": "code",
   "execution_count": null,
   "id": "9f5e594f",
   "metadata": {},
   "outputs": [],
   "source": [
    "# Enter your lab code here"
   ]
  },
  {
   "cell_type": "markdown",
   "id": "ce108c7d",
   "metadata": {},
   "source": [
    "### Step 6 - Evaluating Bias and Variance"
   ]
  },
  {
   "cell_type": "markdown",
   "id": "f209d2df",
   "metadata": {},
   "source": [
    "The tuned *decision_tree* model above isn't particularly complex. While you could spend time pouring over all the paths through the tree, a far more efficient way to understand the effectiveness of the model's predictions is to get the bias and variance. Type the following code into the blank code cell in your lab notebook and run it to produce the results.\n",
    "\n",
    "Note the following in the output:\n",
    "* The model's mean accuracy (i.e., *bias*) is 79.5% accuracy accross the 100 folds\n",
    "* However, the model's standard deviation (i.e., *variance*) is 4.4% across the 100 folds\n",
    "\n",
    "To interpret the variance:\n",
    "* We would expect the model to score between 75.1% and 83.9% accuracy about 2/3 of the time.\n",
    "* We would expect the model to score between 70.7% and 88.3% accuracy about 95% of the time.\n",
    "\n",
    "**Bottom Line -** This model's bias isn't great and it's variance is quite high."
   ]
  },
  {
   "cell_type": "code",
   "execution_count": null,
   "id": "6cedd74a",
   "metadata": {},
   "outputs": [],
   "source": [
    "# Enter your lab code here"
   ]
  }
 ],
 "metadata": {
  "kernelspec": {
   "display_name": "Python 3 (ipykernel)",
   "language": "python",
   "name": "python3"
  },
  "language_info": {
   "codemirror_mode": {
    "name": "ipython",
    "version": 3
   },
   "file_extension": ".py",
   "mimetype": "text/x-python",
   "name": "python",
   "nbconvert_exporter": "python",
   "pygments_lexer": "ipython3",
   "version": "3.11.7"
  }
 },
 "nbformat": 4,
 "nbformat_minor": 5
}

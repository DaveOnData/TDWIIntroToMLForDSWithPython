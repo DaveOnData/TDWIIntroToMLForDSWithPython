{
 "cells": [
  {
   "cell_type": "markdown",
   "id": "119a79e0",
   "metadata": {},
   "source": [
    "## Verify Installation"
   ]
  },
  {
   "cell_type": "markdown",
   "id": "f8233569",
   "metadata": {},
   "source": [
    "Run the following code cell you should see no errors as a result of the running the code."
   ]
  },
  {
   "cell_type": "code",
   "execution_count": null,
   "id": "d19f7f6d",
   "metadata": {
    "scrolled": true
   },
   "outputs": [],
   "source": [
    "from ydata_profiling import ProfileReport \n",
    "from plotnine import ggplot"
   ]
  },
  {
   "cell_type": "code",
   "execution_count": null,
   "id": "d71b9dc6",
   "metadata": {},
   "outputs": [],
   "source": []
  }
 ],
 "metadata": {
  "kernelspec": {
   "display_name": "Python 3 (ipykernel)",
   "language": "python",
   "name": "python3"
  },
  "language_info": {
   "codemirror_mode": {
    "name": "ipython",
    "version": 3
   },
   "file_extension": ".py",
   "mimetype": "text/x-python",
   "name": "python",
   "nbconvert_exporter": "python",
   "pygments_lexer": "ipython3",
   "version": "3.11.7"
  }
 },
 "nbformat": 4,
 "nbformat_minor": 5
}
